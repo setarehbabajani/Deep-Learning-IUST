{
  "nbformat": 4,
  "nbformat_minor": 0,
  "metadata": {
    "colab": {
      "provenance": []
    },
    "kernelspec": {
      "name": "python3",
      "display_name": "Python 3"
    },
    "language_info": {
      "name": "python"
    }
  },
  "cells": [
    {
      "cell_type": "code",
      "execution_count": 29,
      "metadata": {
        "id": "YBXkuLBDXObp"
      },
      "outputs": [],
      "source": [
        "import os\n",
        "from PIL import Image\n",
        "import torch\n",
        "import torch.nn as nn\n",
        "import torch.optim as optim\n",
        "import torchvision.transforms as transforms\n",
        "import matplotlib.pyplot as plt"
      ]
    },
    {
      "cell_type": "code",
      "source": [
        "# Define the MLP model\n",
        "# The super() function should be called to initialize the parent class, and it should not be used to call the __init__ method.\n",
        "class SimpleMLP(nn.Module):\n",
        "    def __init__(self):\n",
        "        super(SimpleMLP, self).__init__()\n",
        "        self.fc1 = nn.Linear(256, 128) # Hidden Layer with 128 neurons\n",
        "        self.fc2 = nn.Linear(128, 3) # Output Layer with 3 neurons (3 classes)\n",
        "\n",
        "    def forward(self, x):\n",
        "        x = torch.relu(self.fc1(x)) # ReLU activation for the hidden layer\n",
        "        x = torch.softmax(self.fc2(x), dim=1) # Softmax activation for the output layer\n",
        "        return x\n",
        "\n"
      ],
      "metadata": {
        "id": "QFlERX0XXUju"
      },
      "execution_count": 18,
      "outputs": []
    },
    {
      "cell_type": "code",
      "source": [
        "# with the help of chat GPT:\n",
        "def load_image(image_file):\n",
        "    img = Image.open(image_file)\n",
        "    # Resize the image to 8x8\n",
        "    img = img.resize((8, 8))\n",
        "    # Convert the image to a tensor and flatten it into a 1D array\n",
        "    img_tensor = transforms.ToTensor()(img).view(256)\n",
        "    return img_tensor\n",
        "\n",
        "image_files = [\"Q5_1.png\", \"Q5_2.png\", \"Q5_3.png\"]\n",
        "\n",
        "# Load and preprocess the images\n",
        "image_data = [load_image(image_file) for image_file in image_files]\n",
        "labels = [0, 1, 2]\n",
        "\n",
        "train_data = image_data\n",
        "train_labels = labels\n",
        "test_data = image_data\n",
        "test_labels = labels\n"
      ],
      "metadata": {
        "id": "MsYsio05YpvG"
      },
      "execution_count": 20,
      "outputs": []
    },
    {
      "cell_type": "code",
      "source": [
        "model = SimpleMLP()\n",
        "\n",
        "criterion = nn.CrossEntropyLoss()  # Cross-Entropy Loss for multi-class classification\n",
        "optimizer = optim.SGD(model.parameters(), lr=0.01)  # Stochastic Gradient Descent optimizer\n",
        "\n",
        "#these numbers are custom\n",
        "num_epochs = 100\n",
        "batch_size = 3  # Since we have three images\n",
        "train_loss_values = []\n",
        "\n",
        "#Training\n",
        "for epoch in range(num_epochs):\n",
        "    epoch_loss = 0.0  # Initialize loss for this epoch\n",
        "    for i in range(0, len(train_data), batch_size):\n",
        "        inputs = torch.stack(train_data[i:i+batch_size])\n",
        "        labels = torch.tensor(train_labels[i:i+batch_size])\n",
        "\n",
        "        optimizer.zero_grad()  # Zero the gradients\n",
        "        outputs = model(inputs)  # Forward pass\n",
        "        loss = criterion(outputs, labels)  # Calculate the loss\n",
        "\n",
        "        loss.backward()  # Backpropagation for optimizing\n",
        "        optimizer.step()  # Update the model's parameters\n",
        "        epoch_loss += loss.item()\n",
        "\n",
        "    # Calculate the average loss for this epoch\n",
        "    avg_epoch_loss = epoch_loss / len(train_data)\n",
        "    train_loss_values.append(avg_epoch_loss)  # Append to the list\n",
        "    print(f\"Epoch [{epoch+1}/{num_epochs}] - Loss: {loss.item()}\")\n",
        "\n",
        "\n",
        "# Testing\n",
        "correct = 0\n",
        "total = 0\n",
        "with torch.no_grad():\n",
        "    for i in range(len(test_data)):\n",
        "        inputs = test_data[i].unsqueeze(0)  # Convert a single image to a 1-sample batch\n",
        "        labels = test_labels[i]\n",
        "\n",
        "        outputs = model(inputs)\n",
        "        _, predicted = torch.max(outputs, 1)\n",
        "        total += 1\n",
        "        if predicted == labels:\n",
        "            correct += 1\n",
        "\n",
        "print(\"--------------------------------------------\")\n",
        "print(f\"Accuracy on test data: {100 * correct / total}%\")"
      ],
      "metadata": {
        "colab": {
          "base_uri": "https://localhost:8080/"
        },
        "id": "Iho9TKQdYru7",
        "outputId": "c9d73b37-8ae4-40cd-90f4-d24860acf13e"
      },
      "execution_count": 28,
      "outputs": [
        {
          "output_type": "stream",
          "name": "stdout",
          "text": [
            "Epoch [1/100] - Loss: 1.10541570186615\n",
            "Epoch [2/100] - Loss: 1.1038767099380493\n",
            "Epoch [3/100] - Loss: 1.1025326251983643\n",
            "Epoch [4/100] - Loss: 1.101553201675415\n",
            "Epoch [5/100] - Loss: 1.100767970085144\n",
            "Epoch [6/100] - Loss: 1.100049614906311\n",
            "Epoch [7/100] - Loss: 1.0993293523788452\n",
            "Epoch [8/100] - Loss: 1.0986448526382446\n",
            "Epoch [9/100] - Loss: 1.0979958772659302\n",
            "Epoch [10/100] - Loss: 1.0974016189575195\n",
            "Epoch [11/100] - Loss: 1.0968527793884277\n",
            "Epoch [12/100] - Loss: 1.0962334871292114\n",
            "Epoch [13/100] - Loss: 1.095621109008789\n",
            "Epoch [14/100] - Loss: 1.095030426979065\n",
            "Epoch [15/100] - Loss: 1.0944331884384155\n",
            "Epoch [16/100] - Loss: 1.093700647354126\n",
            "Epoch [17/100] - Loss: 1.092957615852356\n",
            "Epoch [18/100] - Loss: 1.0922226905822754\n",
            "Epoch [19/100] - Loss: 1.0915024280548096\n",
            "Epoch [20/100] - Loss: 1.090773105621338\n",
            "Epoch [21/100] - Loss: 1.0900579690933228\n",
            "Epoch [22/100] - Loss: 1.0893398523330688\n",
            "Epoch [23/100] - Loss: 1.0886216163635254\n",
            "Epoch [24/100] - Loss: 1.0880707502365112\n",
            "Epoch [25/100] - Loss: 1.0875290632247925\n",
            "Epoch [26/100] - Loss: 1.0870028734207153\n",
            "Epoch [27/100] - Loss: 1.0865578651428223\n",
            "Epoch [28/100] - Loss: 1.0860795974731445\n",
            "Epoch [29/100] - Loss: 1.085626482963562\n",
            "Epoch [30/100] - Loss: 1.0851668119430542\n",
            "Epoch [31/100] - Loss: 1.0846996307373047\n",
            "Epoch [32/100] - Loss: 1.0842379331588745\n",
            "Epoch [33/100] - Loss: 1.083791971206665\n",
            "Epoch [34/100] - Loss: 1.0833241939544678\n",
            "Epoch [35/100] - Loss: 1.0828584432601929\n",
            "Epoch [36/100] - Loss: 1.082393765449524\n",
            "Epoch [37/100] - Loss: 1.0819324254989624\n",
            "Epoch [38/100] - Loss: 1.081478238105774\n",
            "Epoch [39/100] - Loss: 1.0810152292251587\n",
            "Epoch [40/100] - Loss: 1.0805453062057495\n",
            "Epoch [41/100] - Loss: 1.0800999402999878\n",
            "Epoch [42/100] - Loss: 1.0796324014663696\n",
            "Epoch [43/100] - Loss: 1.0791481733322144\n",
            "Epoch [44/100] - Loss: 1.0786844491958618\n",
            "Epoch [45/100] - Loss: 1.078240156173706\n",
            "Epoch [46/100] - Loss: 1.0777736902236938\n",
            "Epoch [47/100] - Loss: 1.0773013830184937\n",
            "Epoch [48/100] - Loss: 1.0768170356750488\n",
            "Epoch [49/100] - Loss: 1.0763543844223022\n",
            "Epoch [50/100] - Loss: 1.075909972190857\n",
            "Epoch [51/100] - Loss: 1.0754245519638062\n",
            "Epoch [52/100] - Loss: 1.0749328136444092\n",
            "Epoch [53/100] - Loss: 1.0744603872299194\n",
            "Epoch [54/100] - Loss: 1.0740097761154175\n",
            "Epoch [55/100] - Loss: 1.0735334157943726\n",
            "Epoch [56/100] - Loss: 1.073036789894104\n",
            "Epoch [57/100] - Loss: 1.072517991065979\n",
            "Epoch [58/100] - Loss: 1.0720062255859375\n",
            "Epoch [59/100] - Loss: 1.0714954137802124\n",
            "Epoch [60/100] - Loss: 1.0710290670394897\n",
            "Epoch [61/100] - Loss: 1.0705369710922241\n",
            "Epoch [62/100] - Loss: 1.0700689554214478\n",
            "Epoch [63/100] - Loss: 1.0695927143096924\n",
            "Epoch [64/100] - Loss: 1.0690983533859253\n",
            "Epoch [65/100] - Loss: 1.0685969591140747\n",
            "Epoch [66/100] - Loss: 1.0681308507919312\n",
            "Epoch [67/100] - Loss: 1.0676558017730713\n",
            "Epoch [68/100] - Loss: 1.0671483278274536\n",
            "Epoch [69/100] - Loss: 1.0666395425796509\n",
            "Epoch [70/100] - Loss: 1.0661643743515015\n",
            "Epoch [71/100] - Loss: 1.0656815767288208\n",
            "Epoch [72/100] - Loss: 1.0651679039001465\n",
            "Epoch [73/100] - Loss: 1.0646520853042603\n",
            "Epoch [74/100] - Loss: 1.0641716718673706\n",
            "Epoch [75/100] - Loss: 1.0636804103851318\n",
            "Epoch [76/100] - Loss: 1.0631589889526367\n",
            "Epoch [77/100] - Loss: 1.062639594078064\n",
            "Epoch [78/100] - Loss: 1.062146782875061\n",
            "Epoch [79/100] - Loss: 1.0616568326950073\n",
            "Epoch [80/100] - Loss: 1.0611273050308228\n",
            "Epoch [81/100] - Loss: 1.0606061220169067\n",
            "Epoch [82/100] - Loss: 1.0600981712341309\n",
            "Epoch [83/100] - Loss: 1.0595908164978027\n",
            "Epoch [84/100] - Loss: 1.0590559244155884\n",
            "Epoch [85/100] - Loss: 1.0585379600524902\n",
            "Epoch [86/100] - Loss: 1.058009147644043\n",
            "Epoch [87/100] - Loss: 1.0574804544448853\n",
            "Epoch [88/100] - Loss: 1.056961178779602\n",
            "Epoch [89/100] - Loss: 1.0564336776733398\n",
            "Epoch [90/100] - Loss: 1.0558953285217285\n",
            "Epoch [91/100] - Loss: 1.0553525686264038\n",
            "Epoch [92/100] - Loss: 1.0548473596572876\n",
            "Epoch [93/100] - Loss: 1.0542947053909302\n",
            "Epoch [94/100] - Loss: 1.0537523031234741\n",
            "Epoch [95/100] - Loss: 1.0532153844833374\n",
            "Epoch [96/100] - Loss: 1.0526751279830933\n",
            "Epoch [97/100] - Loss: 1.052125096321106\n",
            "Epoch [98/100] - Loss: 1.0515931844711304\n",
            "Epoch [99/100] - Loss: 1.051028847694397\n",
            "Epoch [100/100] - Loss: 1.0504628419876099\n",
            "--------------------------------------------\n",
            "Accuracy on test data: 100.0%\n"
          ]
        }
      ]
    },
    {
      "cell_type": "code",
      "source": [
        "# Plot the training loss\n",
        "plt.figure(figsize=(12, 4))\n",
        "plt.subplot(1, 2, 1)\n",
        "plt.plot(train_loss_values)\n",
        "plt.xlabel(\"Epoch\")\n",
        "plt.ylabel(\"Training Loss\")\n",
        "plt.title(\"Training Loss Over Epochs\")\n",
        "\n",
        "plt.tight_layout()\n",
        "plt.show()"
      ],
      "metadata": {
        "colab": {
          "base_uri": "https://localhost:8080/",
          "height": 407
        },
        "id": "hLxh87E5a4vn",
        "outputId": "941262c9-fa8b-4a08-faaa-d67cf759acf8"
      },
      "execution_count": 24,
      "outputs": [
        {
          "output_type": "display_data",
          "data": {
            "text/plain": [
              "<Figure size 1200x400 with 1 Axes>"
            ],
            "image/png": "[encoded data removed]"
          },
          "metadata": {}
        }
      ]
    },
    {
      "cell_type": "code",
      "source": [],
      "metadata": {
        "id": "FgSfXenRdC0O"
      },
      "execution_count": null,
      "outputs": []
    }
  ]
}