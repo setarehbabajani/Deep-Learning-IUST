{
  "nbformat": 4,
  "nbformat_minor": 0,
  "metadata": {
    "colab": {
      "provenance": []
    },
    "kernelspec": {
      "name": "python3",
      "display_name": "Python 3"
    },
    "language_info": {
      "name": "python"
    }
  },
  "cells": [
    {
      "cell_type": "markdown",
      "source": [
        "**Needed Libraries**\n"
      ],
      "metadata": {
        "id": "L2IVPhJMnqaB"
      }
    },
    {
      "cell_type": "code",
      "execution_count": 1,
      "metadata": {
        "colab": {
          "base_uri": "https://localhost:8080/"
        },
        "id": "thFW7G6rnna1",
        "outputId": "9eacf1a3-88f4-4de2-e523-1a70ed4f686d"
      },
      "outputs": [
        {
          "output_type": "stream",
          "name": "stdout",
          "text": [
            "Collecting keras-tuner\n",
            "  Downloading keras_tuner-1.4.6-py3-none-any.whl (128 kB)\n",
            "\u001b[2K     \u001b[90m━━━━━━━━━━━━━━━━━━━━━━━━━━━━━━━━━━━━━━━━\u001b[0m \u001b[32m128.9/128.9 kB\u001b[0m \u001b[31m1.2 MB/s\u001b[0m eta \u001b[36m0:00:00\u001b[0m\n",
            "\u001b[?25hRequirement already satisfied: keras in /usr/local/lib/python3.10/dist-packages (from keras-tuner) (2.15.0)\n",
            "Requirement already satisfied: packaging in /usr/local/lib/python3.10/dist-packages (from keras-tuner) (23.2)\n",
            "Requirement already satisfied: requests in /usr/local/lib/python3.10/dist-packages (from keras-tuner) (2.31.0)\n",
            "Collecting kt-legacy (from keras-tuner)\n",
            "  Downloading kt_legacy-1.0.5-py3-none-any.whl (9.6 kB)\n",
            "Requirement already satisfied: charset-normalizer<4,>=2 in /usr/local/lib/python3.10/dist-packages (from requests->keras-tuner) (3.3.2)\n",
            "Requirement already satisfied: idna<4,>=2.5 in /usr/local/lib/python3.10/dist-packages (from requests->keras-tuner) (3.6)\n",
            "Requirement already satisfied: urllib3<3,>=1.21.1 in /usr/local/lib/python3.10/dist-packages (from requests->keras-tuner) (2.0.7)\n",
            "Requirement already satisfied: certifi>=2017.4.17 in /usr/local/lib/python3.10/dist-packages (from requests->keras-tuner) (2023.11.17)\n",
            "Installing collected packages: kt-legacy, keras-tuner\n",
            "Successfully installed keras-tuner-1.4.6 kt-legacy-1.0.5\n"
          ]
        }
      ],
      "source": [
        "!pip install keras-tuner"
      ]
    },
    {
      "cell_type": "code",
      "source": [
        "import tensorflow as tf\n",
        "import keras_tuner\n",
        "import numpy as np\n",
        "from tensorflow.keras import layers, models\n",
        "from tensorflow.keras.datasets import mnist\n",
        "from tensorflow.keras.utils import to_categorical\n",
        "from kerastuner.tuners import Hyperband\n",
        "from kerastuner.engine.hyperparameters import HyperParameters"
      ],
      "metadata": {
        "colab": {
          "base_uri": "https://localhost:8080/"
        },
        "id": "Uy-pP9K6nxhb",
        "outputId": "f44d3803-0e34-40bf-833e-dd3d8316f968"
      },
      "execution_count": 2,
      "outputs": [
        {
          "output_type": "stream",
          "name": "stderr",
          "text": [
            "<ipython-input-2-a25c4756a4d2>:7: DeprecationWarning: `import kerastuner` is deprecated, please use `import keras_tuner`.\n",
            "  from kerastuner.tuners import Hyperband\n"
          ]
        }
      ]
    },
    {
      "cell_type": "markdown",
      "source": [
        "**Loading Dataset**"
      ],
      "metadata": {
        "id": "-hWaFgm_oRwB"
      }
    },
    {
      "cell_type": "code",
      "source": [
        "(x, y), (x_test, y_test) = tf.keras.datasets.mnist.load_data()\n",
        "\n",
        "x_train = x[:-10000]\n",
        "x_val = x[-10000:]\n",
        "y_train = y[:-10000]\n",
        "y_val = y[-10000:]\n",
        "\n",
        "x_train = np.expand_dims(x_train, -1).astype(\"float32\") / 255.0\n",
        "x_val = np.expand_dims(x_val, -1).astype(\"float32\") / 255.0\n",
        "x_test = np.expand_dims(x_test, -1).astype(\"float32\") / 255.0\n",
        "\n",
        "num_classes = 10\n",
        "y_train = tf.keras.utils.to_categorical(y_train, num_classes)\n",
        "y_val = tf.keras.utils.to_categorical(y_val, num_classes)\n",
        "y_test = tf.keras.utils.to_categorical(y_test, num_classes)"
      ],
      "metadata": {
        "colab": {
          "base_uri": "https://localhost:8080/"
        },
        "id": "JaW2optvn0FE",
        "outputId": "90099f29-0163-4d27-b492-e94b306a071a"
      },
      "execution_count": 3,
      "outputs": [
        {
          "output_type": "stream",
          "name": "stdout",
          "text": [
            "Downloading data from https://storage.googleapis.com/tensorflow/tf-keras-datasets/mnist.npz\n",
            "11490434/11490434 [==============================] - 0s 0us/step\n"
          ]
        }
      ]
    },
    {
      "cell_type": "markdown",
      "source": [
        "**Implementing the model**"
      ],
      "metadata": {
        "id": "iJybJIxboir2"
      }
    },
    {
      "cell_type": "code",
      "source": [
        "def build_model(hp):\n",
        "    model = tf.keras.Sequential() # my model is a sequential one\n",
        "\n",
        "    # start tuning the number of layers\n",
        "    for i in range(hp.Int(\"cnv_number_of_layers\", 1, 5)):\n",
        "        model.add(\n",
        "            layers.Conv2D(\n",
        "                # start tuning the number of filters\n",
        "                filters = hp.Int(f\"filters{i}\", min_value=32, max_value=256, step=32),\n",
        "                kernel_size = (3,3),\n",
        "                activation = 'relu',\n",
        "                padding = 'same'\n",
        "            )\n",
        "        )\n",
        "        model.add(layers.MaxPooling2D(pool_size=(2, 2)))\n",
        "\n",
        "    model.add(layers.Flatten())\n",
        "    for i in range(hp.Int(\"number_of_layers\", 1, 5)):\n",
        "        model.add(\n",
        "            layers.Dense(\n",
        "                # start tuning the number of units\n",
        "                units = hp.Int(f\"units_{i}\", min_value=32, max_value=256, step=32),\n",
        "                activation = hp.Choice(\"activation\", [\"relu\", \"tanh\"]),\n",
        "            )\n",
        "        )\n",
        "    if hp.Boolean(\"dropout\"):\n",
        "        model.add(layers.Dropout(rate=0.25))\n",
        "    model.add(layers.Dense(10, activation=\"softmax\"))\n",
        "    learning_rate = hp.Float(\"lr\", min_value=1e-4, max_value=1e-2, sampling=\"log\")\n",
        "    model.compile(\n",
        "        optimizer=tf.keras.optimizers.Adam(learning_rate=learning_rate), # using Adam optimizer\n",
        "        loss = \"categorical_crossentropy\",\n",
        "        metrics = [\"accuracy\"],\n",
        "    )\n",
        "    return model"
      ],
      "metadata": {
        "id": "T8_UDwfDoXRL"
      },
      "execution_count": 4,
      "outputs": []
    },
    {
      "cell_type": "markdown",
      "source": [
        "**Tunner Hyperparemeter**"
      ],
      "metadata": {
        "id": "aa_isRd4p0QS"
      }
    },
    {
      "cell_type": "code",
      "source": [
        "tuner = keras_tuner.RandomSearch(\n",
        "    hypermodel=build_model,\n",
        "    objective = \"val_accuracy\",\n",
        "    max_trials =3,\n",
        "    executions_per_trial = 2,\n",
        "    overwrite = True,\n",
        "    directory = \"Q1\",\n",
        "    project_name = \"Q1\",\n",
        ")"
      ],
      "metadata": {
        "id": "4gcPmQyopT6-"
      },
      "execution_count": 5,
      "outputs": []
    },
    {
      "cell_type": "markdown",
      "source": [
        "**Start using tunner**"
      ],
      "metadata": {
        "id": "iCU2BpI9qP41"
      }
    },
    {
      "cell_type": "code",
      "source": [
        "tuner.search(x_train, y_train, epochs = 3, validation_data=(x_val, y_val))"
      ],
      "metadata": {
        "colab": {
          "base_uri": "https://localhost:8080/"
        },
        "id": "sHDl02o5qCX8",
        "outputId": "c1b06fef-c4f3-40f4-c42c-006847497533"
      },
      "execution_count": 6,
      "outputs": [
        {
          "output_type": "stream",
          "name": "stdout",
          "text": [
            "Trial 3 Complete [00h 27m 44s]\n",
            "val_accuracy: 0.9828999936580658\n",
            "\n",
            "Best val_accuracy So Far: 0.9875500202178955\n",
            "Total elapsed time: 01h 02m 43s\n"
          ]
        }
      ]
    },
    {
      "cell_type": "markdown",
      "source": [
        "**Best model**"
      ],
      "metadata": {
        "id": "4La9cKP4qmaB"
      }
    },
    {
      "cell_type": "code",
      "source": [
        "# best 2 models\n",
        "models = tuner.get_best_models(num_models = 2)\n",
        "best_model = models[0]\n",
        "\n",
        "# Build model\n",
        "best_model.build(input_shape = x_train.shape)\n",
        "best_model.summary()"
      ],
      "metadata": {
        "colab": {
          "base_uri": "https://localhost:8080/"
        },
        "id": "vk-WBwkhqadY",
        "outputId": "d64ef531-e659-4c84-9a90-98329968320b"
      },
      "execution_count": 7,
      "outputs": [
        {
          "output_type": "stream",
          "name": "stdout",
          "text": [
            "Model: \"sequential\"\n",
            "_________________________________________________________________\n",
            " Layer (type)                Output Shape              Param #   \n",
            "=================================================================\n",
            " conv2d (Conv2D)             (50000, 28, 28, 32)       320       \n",
            "                                                                 \n",
            " max_pooling2d (MaxPooling2  (50000, 14, 14, 32)       0         \n",
            " D)                                                              \n",
            "                                                                 \n",
            " conv2d_1 (Conv2D)           (50000, 14, 14, 256)      73984     \n",
            "                                                                 \n",
            " max_pooling2d_1 (MaxPoolin  (50000, 7, 7, 256)        0         \n",
            " g2D)                                                            \n",
            "                                                                 \n",
            " flatten (Flatten)           (50000, 12544)            0         \n",
            "                                                                 \n",
            " dense (Dense)               (50000, 96)               1204320   \n",
            "                                                                 \n",
            " dense_1 (Dense)             (50000, 224)              21728     \n",
            "                                                                 \n",
            " dense_2 (Dense)             (50000, 192)              43200     \n",
            "                                                                 \n",
            " dense_3 (Dense)             (50000, 32)               6176      \n",
            "                                                                 \n",
            " dropout (Dropout)           (50000, 32)               0         \n",
            "                                                                 \n",
            " dense_4 (Dense)             (50000, 10)               330       \n",
            "                                                                 \n",
            "=================================================================\n",
            "Total params: 1350058 (5.15 MB)\n",
            "Trainable params: 1350058 (5.15 MB)\n",
            "Non-trainable params: 0 (0.00 Byte)\n",
            "_________________________________________________________________\n"
          ]
        }
      ]
    },
    {
      "cell_type": "markdown",
      "source": [
        "**Training on the best model**"
      ],
      "metadata": {
        "id": "jLUVzxk4sN7x"
      }
    },
    {
      "cell_type": "code",
      "source": [
        "best_model.fit(x_train, y_train, epochs = 10, validation_split=0.2)"
      ],
      "metadata": {
        "colab": {
          "base_uri": "https://localhost:8080/"
        },
        "id": "70lnHIsBsM75",
        "outputId": "81956e8a-f432-419f-e73e-6edfc17ddf0f"
      },
      "execution_count": 8,
      "outputs": [
        {
          "output_type": "stream",
          "name": "stdout",
          "text": [
            "Epoch 1/10\n",
            "1250/1250 [==============================] - 144s 114ms/step - loss: 0.0352 - accuracy: 0.9902 - val_loss: 0.0305 - val_accuracy: 0.9907\n",
            "Epoch 2/10\n",
            "1250/1250 [==============================] - 137s 110ms/step - loss: 0.0259 - accuracy: 0.9930 - val_loss: 0.0517 - val_accuracy: 0.9872\n",
            "Epoch 3/10\n",
            "1250/1250 [==============================] - 135s 108ms/step - loss: 0.0222 - accuracy: 0.9947 - val_loss: 0.0373 - val_accuracy: 0.9905\n",
            "Epoch 4/10\n",
            "1250/1250 [==============================] - 137s 110ms/step - loss: 0.0173 - accuracy: 0.9956 - val_loss: 0.0352 - val_accuracy: 0.9915\n",
            "Epoch 5/10\n",
            "1250/1250 [==============================] - 139s 111ms/step - loss: 0.0181 - accuracy: 0.9951 - val_loss: 0.0566 - val_accuracy: 0.9884\n",
            "Epoch 6/10\n",
            "1250/1250 [==============================] - 137s 110ms/step - loss: 0.0146 - accuracy: 0.9964 - val_loss: 0.0417 - val_accuracy: 0.9915\n",
            "Epoch 7/10\n",
            "1250/1250 [==============================] - 137s 109ms/step - loss: 0.0129 - accuracy: 0.9966 - val_loss: 0.0400 - val_accuracy: 0.9929\n",
            "Epoch 8/10\n",
            "1250/1250 [==============================] - 143s 114ms/step - loss: 0.0080 - accuracy: 0.9981 - val_loss: 0.0432 - val_accuracy: 0.9907\n",
            "Epoch 9/10\n",
            "1250/1250 [==============================] - 139s 111ms/step - loss: 0.0128 - accuracy: 0.9970 - val_loss: 0.0597 - val_accuracy: 0.9915\n",
            "Epoch 10/10\n",
            "1250/1250 [==============================] - 137s 110ms/step - loss: 0.0094 - accuracy: 0.9977 - val_loss: 0.0603 - val_accuracy: 0.9905\n"
          ]
        },
        {
          "output_type": "execute_result",
          "data": {
            "text/plain": [
              "<keras.src.callbacks.History at 0x7bd0204f9300>"
            ]
          },
          "metadata": {},
          "execution_count": 8
        }
      ]
    },
    {
      "cell_type": "markdown",
      "source": [
        "**Result**"
      ],
      "metadata": {
        "id": "krW8yR-XsVYu"
      }
    },
    {
      "cell_type": "code",
      "source": [
        "# evaluation\n",
        "test_loss, test_accuracy = best_model.evaluate(x_test, y_test)\n",
        "\n",
        "# test accuracy\n",
        "print(f'Test accuracy is: {test_accuracy}')"
      ],
      "metadata": {
        "colab": {
          "base_uri": "https://localhost:8080/"
        },
        "id": "oOv3XDeKsXNy",
        "outputId": "d006c7c8-c7d1-4d2c-b98c-61be58f85bc7"
      },
      "execution_count": 9,
      "outputs": [
        {
          "output_type": "stream",
          "name": "stdout",
          "text": [
            "313/313 [==============================] - 9s 27ms/step - loss: 0.0622 - accuracy: 0.9900\n",
            "Test accuracy is: 0.9900000095367432\n"
          ]
        }
      ]
    }
  ]
}