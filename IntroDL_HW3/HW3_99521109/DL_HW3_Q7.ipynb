{
  "nbformat": 4,
  "nbformat_minor": 0,
  "metadata": {
    "colab": {
      "provenance": [],
      "gpuType": "T4"
    },
    "kernelspec": {
      "name": "python3",
      "display_name": "Python 3"
    },
    "language_info": {
      "name": "python"
    },
    "accelerator": "GPU"
  },
  "cells": [
    {
      "cell_type": "markdown",
      "source": [
        "**Libraries**"
      ],
      "metadata": {
        "id": "kkN2EPn81_Z_"
      }
    },
    {
      "cell_type": "code",
      "execution_count": 13,
      "metadata": {
        "id": "05kL9WXW1haL"
      },
      "outputs": [],
      "source": [
        "from tensorflow.keras import layers\n",
        "from tensorflow.keras.models import Model\n",
        "from tensorflow.keras.datasets import cifar10\n",
        "from tensorflow.keras.utils import to_categorical\n",
        "from tensorflow.keras.optimizers import Adam"
      ]
    },
    {
      "cell_type": "markdown",
      "source": [
        "**Data**"
      ],
      "metadata": {
        "id": "hO9LCoYn2T2k"
      }
    },
    {
      "cell_type": "code",
      "source": [
        "(train_images, train_labels), (test_images, test_labels) = cifar10.load_data()\n",
        "train_images = train_images.astype('float32') / 255.0\n",
        "test_images = test_images.astype('float32') / 255.0\n",
        "\n",
        "# Converting labels to one-hot encoding\n",
        "train_labels = to_categorical(train_labels, 10)\n",
        "test_labels = to_categorical(test_labels,10)\n",
        "\n",
        "print(train_images.shape)\n",
        "print(test_images.shape)"
      ],
      "metadata": {
        "colab": {
          "base_uri": "https://localhost:8080/"
        },
        "id": "uNw1rLEH2TN3",
        "outputId": "7b42cb2c-4a6d-4bad-99f9-30ceb9e820a2"
      },
      "execution_count": 14,
      "outputs": [
        {
          "output_type": "stream",
          "name": "stdout",
          "text": [
            "(50000, 32, 32, 3)\n",
            "(10000, 32, 32, 3)\n"
          ]
        }
      ]
    },
    {
      "cell_type": "markdown",
      "source": [
        "**The Inception Model**"
      ],
      "metadata": {
        "id": "aD3I6vx32o1t"
      }
    },
    {
      "cell_type": "code",
      "source": [
        "def inception_module(inputs, filters):\n",
        "    # Convolution with 1x1 filter size\n",
        "    conv1x1 = layers.Conv2D(filters=filters[0], kernel_size=1, activation='relu', padding='same')(inputs)\n",
        "\n",
        "    # 1x1 convolution followed by 3x3 convolution\n",
        "    conv3x3_reduce = layers.Conv2D(filters=filters[1], kernel_size=1, activation='relu', padding='same')(inputs)\n",
        "    conv3x3 = layers.Conv2D(filters=filters[2], kernel_size=3, activation='relu', padding='same')(conv3x3_reduce)\n",
        "\n",
        "    # 1x1 convolution followed by 5x5 convolution\n",
        "    conv5x5_reduce = layers.Conv2D(filters=filters[3], kernel_size=1, activation='relu', padding='same')(inputs)\n",
        "    conv5x5 = layers.Conv2D(filters=filters[4], kernel_size=5, activation='relu', padding='same')(conv5x5_reduce)\n",
        "\n",
        "    # Max pooling followed by 1x1 convolution\n",
        "    maxpool = layers.MaxPooling2D(pool_size=3, strides=1, padding='same')(inputs)\n",
        "    pool_conv = layers.Conv2D(filters=filters[5], kernel_size=1, activation='relu', padding='same')(maxpool)\n",
        "\n",
        "    # Concatenating the outputs of all operations along the channel axis\n",
        "    output = layers.concatenate([conv1x1, conv3x3, conv5x5, pool_conv], axis=-1)\n",
        "    return output"
      ],
      "metadata": {
        "id": "FGsa6OQn2bzf"
      },
      "execution_count": 15,
      "outputs": []
    },
    {
      "cell_type": "markdown",
      "source": [
        "**Architecture of the Network**"
      ],
      "metadata": {
        "id": "bV8vLUeA2xuQ"
      }
    },
    {
      "cell_type": "code",
      "source": [
        "def create_inception_model(input_shape, num_classes):\n",
        "    inputs = layers.Input(shape=input_shape)\n",
        "\n",
        "    # Convolutional layers for feature extraction\n",
        "    conv1 = layers.Conv2D(64, 7, activation='relu', padding='same', strides=2)(inputs)\n",
        "    pool1 = layers.MaxPooling2D(pool_size=3, strides=2, padding='same')(conv1)\n",
        "\n",
        "    # Additional Inception modules\n",
        "    inception1 = inception_module(pool1, filters=[64, 96, 128, 16, 32, 32])\n",
        "    inception2 = inception_module(inception1, filters=[128, 128, 192, 32, 96, 64])\n",
        "\n",
        "    # Batch normalization added after each Inception module\n",
        "    inception2 = layers.BatchNormalization()(inception2)\n",
        "\n",
        "    # Global average pooling and dense layers for classification\n",
        "    gap = layers.GlobalAveragePooling2D()(inception2)\n",
        "    outputs = layers.Dense(num_classes, activation='softmax')(gap)\n",
        "\n",
        "    # Create model\n",
        "    model = Model(inputs=inputs, outputs=outputs)\n",
        "    return model"
      ],
      "metadata": {
        "id": "aDdPw1hZ21W4"
      },
      "execution_count": 16,
      "outputs": []
    },
    {
      "cell_type": "markdown",
      "source": [
        "**Create and Compile the model**"
      ],
      "metadata": {
        "id": "BQBeyIwr22ns"
      }
    },
    {
      "cell_type": "code",
      "source": [
        "input_shape = (32, 32, 3)\n",
        "num_classes = 10  # Number of classes in CIFAR-10 dataset\n",
        "\n",
        "# Create the model\n",
        "model = create_inception_model(input_shape, num_classes)\n",
        "\n",
        "# Compile the model\n",
        "model.compile(optimizer='adam',\n",
        "              loss='categorical_crossentropy',\n",
        "              metrics=['accuracy'])"
      ],
      "metadata": {
        "id": "2PgbQkGs28SV"
      },
      "execution_count": 17,
      "outputs": []
    },
    {
      "cell_type": "markdown",
      "source": [
        "**Training**"
      ],
      "metadata": {
        "id": "7hQy8yUw3Bcz"
      }
    },
    {
      "cell_type": "code",
      "source": [
        "history = model.fit(train_images, train_labels, batch_size=64, epochs=20, validation_data=(test_images, test_labels))\n",
        "\n",
        "train_accuracy = history.history['accuracy'][-1]\n",
        "val_accuracy = history.history['val_accuracy'][-1]\n",
        "\n",
        "print(f\"Last training accuracy: {train_accuracy:.4f}\")\n",
        "print(f\"Last validation accuracy: {val_accuracy:.4f}\")"
      ],
      "metadata": {
        "colab": {
          "base_uri": "https://localhost:8080/"
        },
        "id": "NNNBXabk3C-Z",
        "outputId": "0335ff6b-52da-46e9-e354-84c1d2e35f10"
      },
      "execution_count": 18,
      "outputs": [
        {
          "output_type": "stream",
          "name": "stdout",
          "text": [
            "Epoch 1/20\n",
            "782/782 [==============================] - 14s 12ms/step - loss: 1.4046 - accuracy: 0.4940 - val_loss: 1.3166 - val_accuracy: 0.5409\n",
            "Epoch 2/20\n",
            "782/782 [==============================] - 8s 11ms/step - loss: 1.0563 - accuracy: 0.6267 - val_loss: 1.3374 - val_accuracy: 0.5519\n",
            "Epoch 3/20\n",
            "782/782 [==============================] - 8s 10ms/step - loss: 0.9080 - accuracy: 0.6805 - val_loss: 1.2676 - val_accuracy: 0.5949\n",
            "Epoch 4/20\n",
            "782/782 [==============================] - 9s 11ms/step - loss: 0.8077 - accuracy: 0.7171 - val_loss: 0.9722 - val_accuracy: 0.6644\n",
            "Epoch 5/20\n",
            "782/782 [==============================] - 8s 10ms/step - loss: 0.7250 - accuracy: 0.7464 - val_loss: 0.9531 - val_accuracy: 0.6787\n",
            "Epoch 6/20\n",
            "782/782 [==============================] - 8s 10ms/step - loss: 0.6640 - accuracy: 0.7688 - val_loss: 0.9840 - val_accuracy: 0.6648\n",
            "Epoch 7/20\n",
            "782/782 [==============================] - 8s 11ms/step - loss: 0.6065 - accuracy: 0.7894 - val_loss: 0.7938 - val_accuracy: 0.7299\n",
            "Epoch 8/20\n",
            "782/782 [==============================] - 7s 10ms/step - loss: 0.5579 - accuracy: 0.8063 - val_loss: 0.8990 - val_accuracy: 0.7113\n",
            "Epoch 9/20\n",
            "782/782 [==============================] - 8s 11ms/step - loss: 0.5085 - accuracy: 0.8213 - val_loss: 0.9479 - val_accuracy: 0.6928\n",
            "Epoch 10/20\n",
            "782/782 [==============================] - 8s 10ms/step - loss: 0.4624 - accuracy: 0.8376 - val_loss: 0.8600 - val_accuracy: 0.7206\n",
            "Epoch 11/20\n",
            "782/782 [==============================] - 8s 10ms/step - loss: 0.4191 - accuracy: 0.8545 - val_loss: 0.7543 - val_accuracy: 0.7548\n",
            "Epoch 12/20\n",
            "782/782 [==============================] - 8s 11ms/step - loss: 0.3781 - accuracy: 0.8681 - val_loss: 0.7561 - val_accuracy: 0.7494\n",
            "Epoch 13/20\n",
            "782/782 [==============================] - 7s 10ms/step - loss: 0.3407 - accuracy: 0.8826 - val_loss: 0.7604 - val_accuracy: 0.7582\n",
            "Epoch 14/20\n",
            "782/782 [==============================] - 8s 11ms/step - loss: 0.2957 - accuracy: 0.8979 - val_loss: 0.7998 - val_accuracy: 0.7567\n",
            "Epoch 15/20\n",
            "782/782 [==============================] - 8s 10ms/step - loss: 0.2636 - accuracy: 0.9091 - val_loss: 1.0566 - val_accuracy: 0.7194\n",
            "Epoch 16/20\n",
            "782/782 [==============================] - 8s 10ms/step - loss: 0.2376 - accuracy: 0.9189 - val_loss: 0.7966 - val_accuracy: 0.7635\n",
            "Epoch 17/20\n",
            "782/782 [==============================] - 9s 12ms/step - loss: 0.1995 - accuracy: 0.9318 - val_loss: 0.8377 - val_accuracy: 0.7605\n",
            "Epoch 18/20\n",
            "782/782 [==============================] - 7s 10ms/step - loss: 0.1798 - accuracy: 0.9384 - val_loss: 0.8595 - val_accuracy: 0.7583\n",
            "Epoch 19/20\n",
            "782/782 [==============================] - 8s 11ms/step - loss: 0.1530 - accuracy: 0.9490 - val_loss: 0.9886 - val_accuracy: 0.7488\n",
            "Epoch 20/20\n",
            "782/782 [==============================] - 8s 10ms/step - loss: 0.1428 - accuracy: 0.9509 - val_loss: 1.1493 - val_accuracy: 0.7328\n",
            "Last training accuracy: 0.9509\n",
            "Last validation accuracy: 0.7328\n"
          ]
        }
      ]
    },
    {
      "cell_type": "code",
      "source": [],
      "metadata": {
        "id": "THaFbjjMEbGB"
      },
      "execution_count": null,
      "outputs": []
    }
  ]
}