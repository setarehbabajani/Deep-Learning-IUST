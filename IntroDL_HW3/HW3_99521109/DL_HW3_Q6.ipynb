{
  "nbformat": 4,
  "nbformat_minor": 0,
  "metadata": {
    "colab": {
      "provenance": []
    },
    "kernelspec": {
      "name": "python3",
      "display_name": "Python 3"
    },
    "language_info": {
      "name": "python"
    }
  },
  "cells": [
    {
      "cell_type": "markdown",
      "source": [
        "**Libraries**"
      ],
      "metadata": {
        "id": "MLL8VbZMUkr8"
      }
    },
    {
      "cell_type": "code",
      "execution_count": 1,
      "metadata": {
        "id": "EgbImX_vUfWI"
      },
      "outputs": [],
      "source": [
        "import numpy as np\n",
        "import tensorflow as tf"
      ]
    },
    {
      "cell_type": "markdown",
      "source": [
        "**Input Data**"
      ],
      "metadata": {
        "id": "RlsA0bfPUj9T"
      }
    },
    {
      "cell_type": "code",
      "source": [
        "input_tensor = np.random.rand(1, 128, 128, 3)  # Batch size 1, 128x128x3 input"
      ],
      "metadata": {
        "id": "xgji6BCPUvkQ"
      },
      "execution_count": 12,
      "outputs": []
    },
    {
      "cell_type": "markdown",
      "source": [
        "**Model**"
      ],
      "metadata": {
        "id": "IleaP6ozUyjm"
      }
    },
    {
      "cell_type": "code",
      "source": [
        "model = tf.keras.Sequential([\n",
        "    tf.keras.layers.Conv2D(filters=1, kernel_size=1, strides=1, padding='valid', input_shape=(128, 128, 3))\n",
        "])"
      ],
      "metadata": {
        "id": "PmAAHYoJUzzX"
      },
      "execution_count": 13,
      "outputs": []
    },
    {
      "cell_type": "markdown",
      "source": [
        "**Train**"
      ],
      "metadata": {
        "id": "W5sEnM6RU0_g"
      }
    },
    {
      "cell_type": "code",
      "source": [
        "output_tensor = model.predict(input_tensor)"
      ],
      "metadata": {
        "colab": {
          "base_uri": "https://localhost:8080/"
        },
        "id": "kj7F7pSQU48p",
        "outputId": "ede98bf5-1204-4084-b2fa-bc7f1782eda2"
      },
      "execution_count": 14,
      "outputs": [
        {
          "output_type": "stream",
          "name": "stdout",
          "text": [
            "1/1 [==============================] - 0s 41ms/step\n"
          ]
        }
      ]
    },
    {
      "cell_type": "markdown",
      "source": [
        "**Comparing**"
      ],
      "metadata": {
        "id": "cmiI0eL4U5zp"
      }
    },
    {
      "cell_type": "code",
      "source": [
        "print(\"Input shape:\", input_tensor.shape)\n",
        "print(\"Output shape:\", output_tensor.shape)"
      ],
      "metadata": {
        "colab": {
          "base_uri": "https://localhost:8080/"
        },
        "id": "Kry32VabU7nH",
        "outputId": "a74edfae-977d-4ba4-853b-3076824121df"
      },
      "execution_count": 15,
      "outputs": [
        {
          "output_type": "stream",
          "name": "stdout",
          "text": [
            "Input shape: (1, 128, 128, 3)\n",
            "Output shape: (1, 128, 128, 1)\n"
          ]
        }
      ]
    },
    {
      "cell_type": "code",
      "source": [],
      "metadata": {
        "id": "vdqhI64dVef2"
      },
      "execution_count": 15,
      "outputs": []
    }
  ]
}