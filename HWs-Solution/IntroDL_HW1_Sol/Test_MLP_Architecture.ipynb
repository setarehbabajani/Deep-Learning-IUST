{
  "nbformat": 4,
  "nbformat_minor": 0,
  "metadata": {
    "colab": {
      "provenance": []
    },
    "kernelspec": {
      "name": "python3",
      "display_name": "Python 3"
    },
    "language_info": {
      "name": "python"
    }
  },
  "cells": [
    {
      "cell_type": "code",
      "execution_count": 8,
      "metadata": {
        "id": "Mt-ov8PI_IKX"
      },
      "outputs": [],
      "source": [
        "import torch\n",
        "import torch.nn as nn\n",
        "import numpy as np\n",
        "import matplotlib.pyplot as plt\n",
        "%matplotlib inline"
      ]
    },
    {
      "cell_type": "code",
      "source": [
        "def to_torch(X,mode=0):\n",
        "    if mode==0:\n",
        "        return torch.from_numpy(X.astype(np.float32))\n",
        "\n",
        "    elif mode==1:\n",
        "        return torch.from_numpy(X.astype(np.int64))\n",
        "\n",
        "\n",
        "# Define a function to convert a NumPy array to a PyTorch tensor\n",
        "def to_torch(X, mode=0):\n",
        "    if mode == 0:\n",
        "        # Convert the NumPy array to a float32 PyTorch tensor\n",
        "        return torch.from_numpy(X.astype(np.float32))\n",
        "\n",
        "    elif mode == 1:\n",
        "        # Convert the NumPy array to an int64 PyTorch tensor\n",
        "        return torch.from_numpy(X.astype(np.int64))\n"
      ],
      "metadata": {
        "id": "2DvCxP_d_JUJ"
      },
      "execution_count": 9,
      "outputs": []
    },
    {
      "cell_type": "code",
      "source": [
        "import torch\n",
        "import torch.nn as nn\n",
        "import numpy as np\n",
        "\n",
        "# Define a function to create a neural network model and train it.\n",
        "def create_model_and_train(X_train, Y_train, n_epochs=1000):\n",
        "\n",
        "    # Create a neural network model with a single linear layer\n",
        "    # 64 input neurons and 3 output neurons\n",
        "    model = nn.Sequential(\n",
        "        nn.Linear(64, 3),\n",
        "    )\n",
        "\n",
        "    # Define the loss function and the optimizer\n",
        "    criterion = nn.CrossEntropyLoss()\n",
        "    optimizer = torch.optim.Adam(model.parameters(), lr=0.01)\n",
        "\n",
        "    # Convert the input and target training data to PyTorch tensors\n",
        "    inputs = to_torch(X_train, mode=0)\n",
        "    targets = to_torch(Y_train, mode=1)\n",
        "\n",
        "    # Initialize an array to store training losses\n",
        "    train_losses = np.zeros(n_epochs)\n",
        "\n",
        "    for it in range(n_epochs):\n",
        "        optimizer.zero_grad()\n",
        "        outputs = model(inputs)\n",
        "\n",
        "        # Calculate the loss using cross-entropy and target labels\n",
        "        loss = criterion(outputs, torch.max(targets, 1)[1])\n",
        "        train_losses[it] = loss.item()\n",
        "\n",
        "        # Backpropagation and optimization step\n",
        "        loss.backward()\n",
        "        optimizer.step()\n",
        "\n",
        "        # Print the training loss\n",
        "        print(f\"Epoch {it + 1}/{n_epochs}, Train Loss: {loss.item():.4f}\")\n",
        "\n",
        "    return model, train_losses\n"
      ],
      "metadata": {
        "id": "gC06thBe_RFb"
      },
      "execution_count": 14,
      "outputs": []
    },
    {
      "cell_type": "code",
      "source": [
        "# Define a function to plot a metric from a dataset.\n",
        "def plot_metric(data, metric):\n",
        "\n",
        "    # Create a line plot of the data\n",
        "    plt.plot(data, label=f\"train {metric}\")\n",
        "\n",
        "    # Display a legend to label the plot\n",
        "    plt.legend()\n",
        "\n",
        "    # Show the plot\n",
        "    plt.show()\n"
      ],
      "metadata": {
        "id": "iXqoHz5h_SFQ"
      },
      "execution_count": 11,
      "outputs": []
    },
    {
      "cell_type": "code",
      "source": [
        "X = np.array([\n",
        "    np.array([0,0,0,0,0,0,0,0,0,0,0,0,0,0,0,0,0,0,0,0,0,0,0,0,0,0,1,0,0,0,0,1,0,0,1,1,1,1,1,1,0,0,0,0,0,0,0,0,0,0,0,0,1,0,0,0,0,0,0,0,0,0,0,0]),\n",
        "    np.array([0,0,0,0,0,1,0,1,0,0,0,0,1,0,1,0, 0,0,0,0,0,1,0,0,1,0,0,0,1,0,0,0,1,1,1,1,1,0,0,0,0,0,0,0,0,0,0,0,0,0,0,0,0,0,0,0,0,0,0,0,0,0,0,0]),\n",
        "    np.array([0,0,0,0,0,0,0,0, 0,0,0,0,0,0,0,0,0,0,0,0,0,1,1,0,0,0,1,0,1,0,0,1,1,0,1,1,1,1,1,1,1,0,1,0,0,0,0,0,1,1,1,0,0,0,0,0,0,0,0,0,0,0,0,0]),\n",
        "])\n",
        "\n",
        "Y = np.array([\n",
        "    np.array([0,0,1]),\n",
        "    np.array([0,1,0]),\n",
        "    np.array([1,0,0]),\n",
        "])"
      ],
      "metadata": {
        "id": "0fAu3Vcl_UYS"
      },
      "execution_count": 12,
      "outputs": []
    },
    {
      "cell_type": "code",
      "source": [
        "# Call the create_model_and_train function to create and train a neural network model\n",
        "model, train_losses = create_model_and_train(X, Y, n_epochs=100)"
      ],
      "metadata": {
        "colab": {
          "base_uri": "https://localhost:8080/"
        },
        "id": "u0QzG2Vu_YCC",
        "outputId": "dda36dc3-470c-414e-e888-40fa40b94434"
      },
      "execution_count": 15,
      "outputs": [
        {
          "output_type": "stream",
          "name": "stdout",
          "text": [
            "Epoch 1/100, Train Loss: 1.0541\n",
            "Epoch 2/100, Train Loss: 0.9651\n",
            "Epoch 3/100, Train Loss: 0.8810\n",
            "Epoch 4/100, Train Loss: 0.8022\n",
            "Epoch 5/100, Train Loss: 0.7290\n",
            "Epoch 6/100, Train Loss: 0.6613\n",
            "Epoch 7/100, Train Loss: 0.5991\n",
            "Epoch 8/100, Train Loss: 0.5422\n",
            "Epoch 9/100, Train Loss: 0.4904\n",
            "Epoch 10/100, Train Loss: 0.4435\n",
            "Epoch 11/100, Train Loss: 0.4012\n",
            "Epoch 12/100, Train Loss: 0.3631\n",
            "Epoch 13/100, Train Loss: 0.3290\n",
            "Epoch 14/100, Train Loss: 0.2985\n",
            "Epoch 15/100, Train Loss: 0.2713\n",
            "Epoch 16/100, Train Loss: 0.2469\n",
            "Epoch 17/100, Train Loss: 0.2252\n",
            "Epoch 18/100, Train Loss: 0.2059\n",
            "Epoch 19/100, Train Loss: 0.1886\n",
            "Epoch 20/100, Train Loss: 0.1732\n",
            "Epoch 21/100, Train Loss: 0.1595\n",
            "Epoch 22/100, Train Loss: 0.1472\n",
            "Epoch 23/100, Train Loss: 0.1362\n",
            "Epoch 24/100, Train Loss: 0.1263\n",
            "Epoch 25/100, Train Loss: 0.1175\n",
            "Epoch 26/100, Train Loss: 0.1096\n",
            "Epoch 27/100, Train Loss: 0.1024\n",
            "Epoch 28/100, Train Loss: 0.0959\n",
            "Epoch 29/100, Train Loss: 0.0901\n",
            "Epoch 30/100, Train Loss: 0.0848\n",
            "Epoch 31/100, Train Loss: 0.0800\n",
            "Epoch 32/100, Train Loss: 0.0757\n",
            "Epoch 33/100, Train Loss: 0.0717\n",
            "Epoch 34/100, Train Loss: 0.0681\n",
            "Epoch 35/100, Train Loss: 0.0648\n",
            "Epoch 36/100, Train Loss: 0.0617\n",
            "Epoch 37/100, Train Loss: 0.0589\n",
            "Epoch 38/100, Train Loss: 0.0564\n",
            "Epoch 39/100, Train Loss: 0.0540\n",
            "Epoch 40/100, Train Loss: 0.0518\n",
            "Epoch 41/100, Train Loss: 0.0498\n",
            "Epoch 42/100, Train Loss: 0.0479\n",
            "Epoch 43/100, Train Loss: 0.0462\n",
            "Epoch 44/100, Train Loss: 0.0446\n",
            "Epoch 45/100, Train Loss: 0.0431\n",
            "Epoch 46/100, Train Loss: 0.0417\n",
            "Epoch 47/100, Train Loss: 0.0404\n",
            "Epoch 48/100, Train Loss: 0.0391\n",
            "Epoch 49/100, Train Loss: 0.0380\n",
            "Epoch 50/100, Train Loss: 0.0369\n",
            "Epoch 51/100, Train Loss: 0.0359\n",
            "Epoch 52/100, Train Loss: 0.0349\n",
            "Epoch 53/100, Train Loss: 0.0340\n",
            "Epoch 54/100, Train Loss: 0.0331\n",
            "Epoch 55/100, Train Loss: 0.0323\n",
            "Epoch 56/100, Train Loss: 0.0315\n",
            "Epoch 57/100, Train Loss: 0.0308\n",
            "Epoch 58/100, Train Loss: 0.0301\n",
            "Epoch 59/100, Train Loss: 0.0294\n",
            "Epoch 60/100, Train Loss: 0.0288\n",
            "Epoch 61/100, Train Loss: 0.0282\n",
            "Epoch 62/100, Train Loss: 0.0276\n",
            "Epoch 63/100, Train Loss: 0.0270\n",
            "Epoch 64/100, Train Loss: 0.0265\n",
            "Epoch 65/100, Train Loss: 0.0260\n",
            "Epoch 66/100, Train Loss: 0.0255\n",
            "Epoch 67/100, Train Loss: 0.0250\n",
            "Epoch 68/100, Train Loss: 0.0245\n",
            "Epoch 69/100, Train Loss: 0.0241\n",
            "Epoch 70/100, Train Loss: 0.0237\n",
            "Epoch 71/100, Train Loss: 0.0233\n",
            "Epoch 72/100, Train Loss: 0.0229\n",
            "Epoch 73/100, Train Loss: 0.0225\n",
            "Epoch 74/100, Train Loss: 0.0221\n",
            "Epoch 75/100, Train Loss: 0.0218\n",
            "Epoch 76/100, Train Loss: 0.0214\n",
            "Epoch 77/100, Train Loss: 0.0211\n",
            "Epoch 78/100, Train Loss: 0.0208\n",
            "Epoch 79/100, Train Loss: 0.0205\n",
            "Epoch 80/100, Train Loss: 0.0201\n",
            "Epoch 81/100, Train Loss: 0.0198\n",
            "Epoch 82/100, Train Loss: 0.0196\n",
            "Epoch 83/100, Train Loss: 0.0193\n",
            "Epoch 84/100, Train Loss: 0.0190\n",
            "Epoch 85/100, Train Loss: 0.0187\n",
            "Epoch 86/100, Train Loss: 0.0185\n",
            "Epoch 87/100, Train Loss: 0.0182\n",
            "Epoch 88/100, Train Loss: 0.0180\n",
            "Epoch 89/100, Train Loss: 0.0177\n",
            "Epoch 90/100, Train Loss: 0.0175\n",
            "Epoch 91/100, Train Loss: 0.0173\n",
            "Epoch 92/100, Train Loss: 0.0170\n",
            "Epoch 93/100, Train Loss: 0.0168\n",
            "Epoch 94/100, Train Loss: 0.0166\n",
            "Epoch 95/100, Train Loss: 0.0164\n",
            "Epoch 96/100, Train Loss: 0.0162\n",
            "Epoch 97/100, Train Loss: 0.0160\n",
            "Epoch 98/100, Train Loss: 0.0158\n",
            "Epoch 99/100, Train Loss: 0.0156\n",
            "Epoch 100/100, Train Loss: 0.0154\n"
          ]
        }
      ]
    },
    {
      "cell_type": "code",
      "source": [
        "plot_metric(train_losses, \"Loss\")"
      ],
      "metadata": {
        "colab": {
          "base_uri": "https://localhost:8080/",
          "height": 430
        },
        "id": "NTXFaeCn_bQP",
        "outputId": "9ee69479-624c-4f1d-8fab-e836f68011e2"
      },
      "execution_count": 16,
      "outputs": [
        {
          "output_type": "display_data",
          "data": {
            "text/plain": [
              "<Figure size 640x480 with 1 Axes>"
            ],
            "image/png": "[encoded data removed]"
          },
          "metadata": {}
        }
      ]
    },
    {
      "cell_type": "code",
      "source": [
        "# convert inputs to tensor\n",
        "inputs  = to_torch(X,mode=0)"
      ],
      "metadata": {
        "id": "EGDGpKKGCHDi"
      },
      "execution_count": 18,
      "outputs": []
    },
    {
      "cell_type": "code",
      "source": [
        "# predict\n",
        "model(inputs)"
      ],
      "metadata": {
        "colab": {
          "base_uri": "https://localhost:8080/"
        },
        "id": "ocdEk7EwCJpg",
        "outputId": "c8c06f74-2dd3-46b2-f3ba-f4731d6016dd"
      },
      "execution_count": 19,
      "outputs": [
        {
          "output_type": "execute_result",
          "data": {
            "text/plain": [
              "tensor([[-0.8124, -1.6665,  3.5145],\n",
              "        [-1.8223,  3.2671, -2.5227],\n",
              "        [ 3.7212, -1.9592, -0.5069]], grad_fn=<AddmmBackward0>)"
            ]
          },
          "metadata": {},
          "execution_count": 19
        }
      ]
    }
  ]
}